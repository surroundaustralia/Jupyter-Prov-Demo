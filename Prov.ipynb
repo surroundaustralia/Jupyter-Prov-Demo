{
 "cells": [
  {
   "cell_type": "code",
   "execution_count": 1,
   "id": "2408cf51",
   "metadata": {},
   "outputs": [],
   "source": [
    "%endpoint http://prov-loadba-z1mq3hc1iwb6-0953be8432f34fc1.elb.ap-southeast-2.amazonaws.com:3030/prov/sparql"
   ]
  },
  {
   "cell_type": "code",
   "execution_count": 2,
   "id": "cfd268b6",
   "metadata": {},
   "outputs": [
    {
     "data": {
      "text/html": [
       "<div class=\"krn-spql\"><div class=\"magic\">Display: table<br/>Show Types: on</div></div>"
      ],
      "text/plain": [
       "Display: table\n",
       "Show Types: on\n"
      ]
     },
     "metadata": {},
     "output_type": "display_data"
    },
    {
     "data": {
      "text/html": [
       "<div class=\"krn-spql\"><table><tr class=hdr><th>subject</th><th>type</th>\n",
       "<th>predicate</th><th>type</th>\n",
       "<th>object</th><th>type</th></tr><tr class=odd><td class=val><a href=\"https://data.surroundaustralia.com/dataset/provworkflows/be0a708b-ae4f-11ec-857e-0d3fff4d6369\" target=\"_other\">https://data.surroundaustralia.com/dataset/provworkflows/be0a708b-ae4f-11ec-857e-0d3fff4d6369</a></td><td class=typ>URIRef</td>\n",
       "<td class=val><a href=\"http://www.w3.org/ns/prov#used\" target=\"_other\">http://www.w3.org/ns/prov#used</a></td><td class=typ>URIRef</td>\n",
       "<td class=val><a href=\"https://data.surroundaustralia.com/dataset/provworkflows/be0a708e-ae4f-11ec-857e-0d3fff4d6369\" target=\"_other\">https://data.surroundaustralia.com/dataset/provworkflows/be0a708e-ae4f-11ec-857e-0d3fff4d6369</a></td><td class=typ>URIRef</td></tr><tr class=even><td class=val><a href=\"https://data.surroundaustralia.com/dataset/provworkflows/be0a708b-ae4f-11ec-857e-0d3fff4d6369\" target=\"_other\">https://data.surroundaustralia.com/dataset/provworkflows/be0a708b-ae4f-11ec-857e-0d3fff4d6369</a></td><td class=typ>URIRef</td>\n",
       "<td class=val><a href=\"https://data.surroundaustralia.com/def/provworkflow/hadBlock\" target=\"_other\">https://data.surroundaustralia.com/def/provworkflow/hadBlock</a></td><td class=typ>URIRef</td>\n",
       "<td class=val><a href=\"https://data.surroundaustralia.com/dataset/provworkflows/be0a7098-ae4f-11ec-857e-0d3fff4d6369\" target=\"_other\">https://data.surroundaustralia.com/dataset/provworkflows/be0a7098-ae4f-11ec-857e-0d3fff4d6369</a></td><td class=typ>URIRef</td></tr><tr class=odd><td class=val><a href=\"https://data.surroundaustralia.com/dataset/provworkflows/be0a708b-ae4f-11ec-857e-0d3fff4d6369\" target=\"_other\">https://data.surroundaustralia.com/dataset/provworkflows/be0a708b-ae4f-11ec-857e-0d3fff4d6369</a></td><td class=typ>URIRef</td>\n",
       "<td class=val><a href=\"http://www.w3.org/1999/02/22-rdf-syntax-ns#type\" target=\"_other\">http://www.w3.org/1999/02/22-rdf-syntax-ns#type</a></td><td class=typ>URIRef</td>\n",
       "<td class=val><a href=\"http://www.w3.org/ns/prov#Activity\" target=\"_other\">http://www.w3.org/ns/prov#Activity</a></td><td class=typ>URIRef</td></tr><tr class=even><td class=val><a href=\"https://data.surroundaustralia.com/dataset/provworkflows/be0a708b-ae4f-11ec-857e-0d3fff4d6369\" target=\"_other\">https://data.surroundaustralia.com/dataset/provworkflows/be0a708b-ae4f-11ec-857e-0d3fff4d6369</a></td><td class=typ>URIRef</td>\n",
       "<td class=val><a href=\"http://www.w3.org/ns/prov#used\" target=\"_other\">http://www.w3.org/ns/prov#used</a></td><td class=typ>URIRef</td>\n",
       "<td class=val><a href=\"https://data.surroundaustralia.com/dataset/provworkflows/be0a7092-ae4f-11ec-857e-0d3fff4d6369\" target=\"_other\">https://data.surroundaustralia.com/dataset/provworkflows/be0a7092-ae4f-11ec-857e-0d3fff4d6369</a></td><td class=typ>URIRef</td></tr><tr class=odd><td class=val><a href=\"https://data.surroundaustralia.com/dataset/provworkflows/be0a708b-ae4f-11ec-857e-0d3fff4d6369\" target=\"_other\">https://data.surroundaustralia.com/dataset/provworkflows/be0a708b-ae4f-11ec-857e-0d3fff4d6369</a></td><td class=typ>URIRef</td>\n",
       "<td class=val><a href=\"http://www.w3.org/ns/prov#wasAssociatedWith\" target=\"_other\">http://www.w3.org/ns/prov#wasAssociatedWith</a></td><td class=typ>URIRef</td>\n",
       "<td class=val><a href=\"https://data.surroundaustralia.com/dataset/provworkflows/be0a708a-ae4f-11ec-857e-0d3fff4d6369\" target=\"_other\">https://data.surroundaustralia.com/dataset/provworkflows/be0a708a-ae4f-11ec-857e-0d3fff4d6369</a></td><td class=typ>URIRef</td></tr><tr class=even><td class=val><a href=\"https://data.surroundaustralia.com/dataset/provworkflows/be0a708b-ae4f-11ec-857e-0d3fff4d6369\" target=\"_other\">https://data.surroundaustralia.com/dataset/provworkflows/be0a708b-ae4f-11ec-857e-0d3fff4d6369</a></td><td class=typ>URIRef</td>\n",
       "<td class=val><a href=\"http://www.w3.org/2002/07/owl#versionIRI\" target=\"_other\">http://www.w3.org/2002/07/owl#versionIRI</a></td><td class=typ>URIRef</td>\n",
       "<td class=val>https://bitbucket.org:surroundbitbucket/digital-atlas-etl/commits/fde6666cfb213b40db607ef0472f19e5fa675600</td><td class=typ>Literal, None</td></tr><tr class=odd><td class=val><a href=\"https://data.surroundaustralia.com/dataset/provworkflows/be0a708b-ae4f-11ec-857e-0d3fff4d6369\" target=\"_other\">https://data.surroundaustralia.com/dataset/provworkflows/be0a708b-ae4f-11ec-857e-0d3fff4d6369</a></td><td class=typ>URIRef</td>\n",
       "<td class=val><a href=\"http://www.w3.org/ns/prov#used\" target=\"_other\">http://www.w3.org/ns/prov#used</a></td><td class=typ>URIRef</td>\n",
       "<td class=val><a href=\"https://data.surroundaustralia.com/dataset/provworkflows/be0a7093-ae4f-11ec-857e-0d3fff4d6369\" target=\"_other\">https://data.surroundaustralia.com/dataset/provworkflows/be0a7093-ae4f-11ec-857e-0d3fff4d6369</a></td><td class=typ>URIRef</td></tr><tr class=even><td class=val><a href=\"https://data.surroundaustralia.com/dataset/provworkflows/be0a708b-ae4f-11ec-857e-0d3fff4d6369\" target=\"_other\">https://data.surroundaustralia.com/dataset/provworkflows/be0a708b-ae4f-11ec-857e-0d3fff4d6369</a></td><td class=typ>URIRef</td>\n",
       "<td class=val><a href=\"https://data.surroundaustralia.com/def/provworkflow/hadBlock\" target=\"_other\">https://data.surroundaustralia.com/def/provworkflow/hadBlock</a></td><td class=typ>URIRef</td>\n",
       "<td class=val><a href=\"https://data.surroundaustralia.com/dataset/provworkflows/cb604908-ae4f-11ec-857e-0d3fff4d6369\" target=\"_other\">https://data.surroundaustralia.com/dataset/provworkflows/cb604908-ae4f-11ec-857e-0d3fff4d6369</a></td><td class=typ>URIRef</td></tr><tr class=odd><td class=val><a href=\"https://data.surroundaustralia.com/dataset/provworkflows/be0a708b-ae4f-11ec-857e-0d3fff4d6369\" target=\"_other\">https://data.surroundaustralia.com/dataset/provworkflows/be0a708b-ae4f-11ec-857e-0d3fff4d6369</a></td><td class=typ>URIRef</td>\n",
       "<td class=val><a href=\"https://data.surroundaustralia.com/def/provworkflow/hadBlock\" target=\"_other\">https://data.surroundaustralia.com/def/provworkflow/hadBlock</a></td><td class=typ>URIRef</td>\n",
       "<td class=val><a href=\"https://data.surroundaustralia.com/dataset/provworkflows/bf056dd3-ae4f-11ec-857e-0d3fff4d6369\" target=\"_other\">https://data.surroundaustralia.com/dataset/provworkflows/bf056dd3-ae4f-11ec-857e-0d3fff4d6369</a></td><td class=typ>URIRef</td></tr><tr class=even><td class=val><a href=\"https://data.surroundaustralia.com/dataset/provworkflows/be0a708b-ae4f-11ec-857e-0d3fff4d6369\" target=\"_other\">https://data.surroundaustralia.com/dataset/provworkflows/be0a708b-ae4f-11ec-857e-0d3fff4d6369</a></td><td class=typ>URIRef</td>\n",
       "<td class=val><a href=\"http://purl.org/dc/terms/created\" target=\"_other\">http://purl.org/dc/terms/created</a></td><td class=typ>URIRef</td>\n",
       "<td class=val>2022-03-28T14:30:05+1000</td><td class=typ>Literal, None</td></tr><tr class=odd><td class=val><a href=\"https://data.surroundaustralia.com/dataset/provworkflows/be0a708b-ae4f-11ec-857e-0d3fff4d6369\" target=\"_other\">https://data.surroundaustralia.com/dataset/provworkflows/be0a708b-ae4f-11ec-857e-0d3fff4d6369</a></td><td class=typ>URIRef</td>\n",
       "<td class=val><a href=\"https://data.surroundaustralia.com/def/provworkflow/hadBlock\" target=\"_other\">https://data.surroundaustralia.com/def/provworkflow/hadBlock</a></td><td class=typ>URIRef</td>\n",
       "<td class=val><a href=\"https://data.surroundaustralia.com/dataset/provworkflows/bf056dd2-ae4f-11ec-857e-0d3fff4d6369\" target=\"_other\">https://data.surroundaustralia.com/dataset/provworkflows/bf056dd2-ae4f-11ec-857e-0d3fff4d6369</a></td><td class=typ>URIRef</td></tr><tr class=even><td class=val><a href=\"https://data.surroundaustralia.com/dataset/provworkflows/be0a708b-ae4f-11ec-857e-0d3fff4d6369\" target=\"_other\">https://data.surroundaustralia.com/dataset/provworkflows/be0a708b-ae4f-11ec-857e-0d3fff4d6369</a></td><td class=typ>URIRef</td>\n",
       "<td class=val><a href=\"http://www.w3.org/ns/prov#used\" target=\"_other\">http://www.w3.org/ns/prov#used</a></td><td class=typ>URIRef</td>\n",
       "<td class=val><a href=\"https://data.surroundaustralia.com/dataset/provworkflows/be0a708d-ae4f-11ec-857e-0d3fff4d6369\" target=\"_other\">https://data.surroundaustralia.com/dataset/provworkflows/be0a708d-ae4f-11ec-857e-0d3fff4d6369</a></td><td class=typ>URIRef</td></tr><tr class=odd><td class=val><a href=\"https://data.surroundaustralia.com/dataset/provworkflows/be0a708b-ae4f-11ec-857e-0d3fff4d6369\" target=\"_other\">https://data.surroundaustralia.com/dataset/provworkflows/be0a708b-ae4f-11ec-857e-0d3fff4d6369</a></td><td class=typ>URIRef</td>\n",
       "<td class=val><a href=\"http://www.w3.org/ns/prov#used\" target=\"_other\">http://www.w3.org/ns/prov#used</a></td><td class=typ>URIRef</td>\n",
       "<td class=val><a href=\"https://data.surroundaustralia.com/dataset/provworkflows/be0a7090-ae4f-11ec-857e-0d3fff4d6369\" target=\"_other\">https://data.surroundaustralia.com/dataset/provworkflows/be0a7090-ae4f-11ec-857e-0d3fff4d6369</a></td><td class=typ>URIRef</td></tr><tr class=even><td class=val><a href=\"https://data.surroundaustralia.com/dataset/provworkflows/be0a708b-ae4f-11ec-857e-0d3fff4d6369\" target=\"_other\">https://data.surroundaustralia.com/dataset/provworkflows/be0a708b-ae4f-11ec-857e-0d3fff4d6369</a></td><td class=typ>URIRef</td>\n",
       "<td class=val><a href=\"http://www.w3.org/2000/01/rdf-schema#label\" target=\"_other\">http://www.w3.org/2000/01/rdf-schema#label</a></td><td class=typ>URIRef</td>\n",
       "<td class=val>Placenames dataset conversion from Postgres --&gt; RDF</td><td class=typ>Literal, None</td></tr><tr class=odd><td class=val><a href=\"https://data.surroundaustralia.com/dataset/provworkflows/be0a708b-ae4f-11ec-857e-0d3fff4d6369\" target=\"_other\">https://data.surroundaustralia.com/dataset/provworkflows/be0a708b-ae4f-11ec-857e-0d3fff4d6369</a></td><td class=typ>URIRef</td>\n",
       "<td class=val><a href=\"http://www.w3.org/ns/prov#used\" target=\"_other\">http://www.w3.org/ns/prov#used</a></td><td class=typ>URIRef</td>\n",
       "<td class=val><a href=\"https://data.surroundaustralia.com/dataset/provworkflows/be0a7094-ae4f-11ec-857e-0d3fff4d6369\" target=\"_other\">https://data.surroundaustralia.com/dataset/provworkflows/be0a7094-ae4f-11ec-857e-0d3fff4d6369</a></td><td class=typ>URIRef</td></tr><tr class=even><td class=val><a href=\"https://data.surroundaustralia.com/dataset/provworkflows/be0a708b-ae4f-11ec-857e-0d3fff4d6369\" target=\"_other\">https://data.surroundaustralia.com/dataset/provworkflows/be0a708b-ae4f-11ec-857e-0d3fff4d6369</a></td><td class=typ>URIRef</td>\n",
       "<td class=val><a href=\"http://www.w3.org/1999/02/22-rdf-syntax-ns#type\" target=\"_other\">http://www.w3.org/1999/02/22-rdf-syntax-ns#type</a></td><td class=typ>URIRef</td>\n",
       "<td class=val><a href=\"https://data.surroundaustralia.com/def/provworkflow/Workflow\" target=\"_other\">https://data.surroundaustralia.com/def/provworkflow/Workflow</a></td><td class=typ>URIRef</td></tr><tr class=odd><td class=val><a href=\"https://data.surroundaustralia.com/dataset/provworkflows/be0a708b-ae4f-11ec-857e-0d3fff4d6369\" target=\"_other\">https://data.surroundaustralia.com/dataset/provworkflows/be0a708b-ae4f-11ec-857e-0d3fff4d6369</a></td><td class=typ>URIRef</td>\n",
       "<td class=val><a href=\"http://www.w3.org/ns/prov#startedAtTime\" target=\"_other\">http://www.w3.org/ns/prov#startedAtTime</a></td><td class=typ>URIRef</td>\n",
       "<td class=val>2022-03-28T14:30:48+1000</td><td class=typ>Literal, None</td></tr><tr class=even><td class=val><a href=\"https://data.surroundaustralia.com/dataset/provworkflows/be0a708b-ae4f-11ec-857e-0d3fff4d6369\" target=\"_other\">https://data.surroundaustralia.com/dataset/provworkflows/be0a708b-ae4f-11ec-857e-0d3fff4d6369</a></td><td class=typ>URIRef</td>\n",
       "<td class=val><a href=\"http://www.w3.org/ns/prov#endedAtTime\" target=\"_other\">http://www.w3.org/ns/prov#endedAtTime</a></td><td class=typ>URIRef</td>\n",
       "<td class=val>2022-03-28T14:30:48+1000</td><td class=typ>Literal, None</td></tr></table><div class=\"tinfo\">Shown: 18, Total rows: 18</div></div>"
      ]
     },
     "metadata": {},
     "output_type": "display_data"
    }
   ],
   "source": [
    "%display table withtypes\n",
    "PREFIX prov: <http://www.w3.org/ns/prov#>\n",
    "DESCRIBE \n",
    "?activity \n",
    "WHERE \n",
    "{ ?activity a prov:Activity } \n",
    "LIMIT 1"
   ]
  },
  {
   "cell_type": "code",
   "execution_count": 3,
   "id": "fa2803bd",
   "metadata": {},
   "outputs": [
    {
     "data": {
      "text/html": [
       "<div class=\"krn-spql\"><div class=\"magic\">Display: table<br/>Show Types: on</div></div>"
      ],
      "text/plain": [
       "Display: table\n",
       "Show Types: on\n"
      ]
     },
     "metadata": {},
     "output_type": "display_data"
    },
    {
     "data": {
      "text/html": [
       "<div class=\"krn-spql\"><table><tr class=hdr><th>subject</th><th>type</th>\n",
       "<th>predicate</th><th>type</th>\n",
       "<th>object</th><th>type</th></tr><tr class=odd><td class=val><a href=\"https://data.surroundaustralia.com/dataset/provworkflows/be0a708a-ae4f-11ec-857e-0d3fff4d6369\" target=\"_other\">https://data.surroundaustralia.com/dataset/provworkflows/be0a708a-ae4f-11ec-857e-0d3fff4d6369</a></td><td class=typ>URIRef</td>\n",
       "<td class=val><a href=\"http://purl.org/dc/terms/created\" target=\"_other\">http://purl.org/dc/terms/created</a></td><td class=typ>URIRef</td>\n",
       "<td class=val>2022-03-28T14:30:05+1000</td><td class=typ>Literal, None</td></tr><tr class=even><td class=val><a href=\"https://data.surroundaustralia.com/dataset/provworkflows/be0a708a-ae4f-11ec-857e-0d3fff4d6369\" target=\"_other\">https://data.surroundaustralia.com/dataset/provworkflows/be0a708a-ae4f-11ec-857e-0d3fff4d6369</a></td><td class=typ>URIRef</td>\n",
       "<td class=val><a href=\"http://www.w3.org/1999/02/22-rdf-syntax-ns#type\" target=\"_other\">http://www.w3.org/1999/02/22-rdf-syntax-ns#type</a></td><td class=typ>URIRef</td>\n",
       "<td class=val><a href=\"http://www.w3.org/ns/prov#Agent\" target=\"_other\">http://www.w3.org/ns/prov#Agent</a></td><td class=typ>URIRef</td></tr><tr class=odd><td class=val><a href=\"https://data.surroundaustralia.com/dataset/provworkflows/be0a708a-ae4f-11ec-857e-0d3fff4d6369\" target=\"_other\">https://data.surroundaustralia.com/dataset/provworkflows/be0a708a-ae4f-11ec-857e-0d3fff4d6369</a></td><td class=typ>URIRef</td>\n",
       "<td class=val><a href=\"http://www.w3.org/2000/01/rdf-schema#label\" target=\"_other\">http://www.w3.org/2000/01/rdf-schema#label</a></td><td class=typ>URIRef</td>\n",
       "<td class=val>david</td><td class=typ>Literal, None</td></tr></table><div class=\"tinfo\">Shown: 3, Total rows: 3</div></div>"
      ]
     },
     "metadata": {},
     "output_type": "display_data"
    }
   ],
   "source": [
    "%display table withtypes\n",
    "PREFIX prov: <http://www.w3.org/ns/prov#>\n",
    "DESCRIBE \n",
    "?activity \n",
    "WHERE \n",
    "{ ?activity a prov:Agent } \n",
    "LIMIT 1"
   ]
  },
  {
   "cell_type": "code",
   "execution_count": 4,
   "id": "f66ae38c",
   "metadata": {},
   "outputs": [
    {
     "data": {
      "text/html": [
       "<div class=\"krn-spql\"><div class=\"magic\">Display: table<br/>Show Types: on</div></div>"
      ],
      "text/plain": [
       "Display: table\n",
       "Show Types: on\n"
      ]
     },
     "metadata": {},
     "output_type": "display_data"
    },
    {
     "data": {
      "text/html": [
       "<div class=\"krn-spql\"><table><tr class=hdr><th>subject</th><th>type</th>\n",
       "<th>predicate</th><th>type</th>\n",
       "<th>object</th><th>type</th></tr><tr class=odd><td class=val><a href=\"https://data.surroundaustralia.com/dataset/provworkflows/be0a708e-ae4f-11ec-857e-0d3fff4d6369\" target=\"_other\">https://data.surroundaustralia.com/dataset/provworkflows/be0a708e-ae4f-11ec-857e-0d3fff4d6369</a></td><td class=typ>URIRef</td>\n",
       "<td class=val><a href=\"http://www.w3.org/ns/prov#value\" target=\"_other\">http://www.w3.org/ns/prov#value</a></td><td class=typ>URIRef</td>\n",
       "<td class=val>SELECT id, geom, &quot;ID&quot;, &quot;AUTH_ID&quot;, &quot;NAME&quot;, &quot;FEATURE&quot;, &quot;CATEGORY&quot;, &quot;GROUP&quot;, &quot;LATITUDE&quot;, &quot;LONGITUDE&quot;, &quot;AUTHORITY&quot;, &quot;SUPPLY_DATE&quot;\n",
       "\tFROM public.placenames_all LIMIT 15;</td><td class=typ>Literal, None</td></tr><tr class=even><td class=val><a href=\"https://data.surroundaustralia.com/dataset/provworkflows/be0a708e-ae4f-11ec-857e-0d3fff4d6369\" target=\"_other\">https://data.surroundaustralia.com/dataset/provworkflows/be0a708e-ae4f-11ec-857e-0d3fff4d6369</a></td><td class=typ>URIRef</td>\n",
       "<td class=val><a href=\"http://www.w3.org/2000/01/rdf-schema#label\" target=\"_other\">http://www.w3.org/2000/01/rdf-schema#label</a></td><td class=typ>URIRef</td>\n",
       "<td class=val>SQL query to get placenames data</td><td class=typ>Literal, None</td></tr><tr class=odd><td class=val><a href=\"https://data.surroundaustralia.com/dataset/provworkflows/be0a708e-ae4f-11ec-857e-0d3fff4d6369\" target=\"_other\">https://data.surroundaustralia.com/dataset/provworkflows/be0a708e-ae4f-11ec-857e-0d3fff4d6369</a></td><td class=typ>URIRef</td>\n",
       "<td class=val><a href=\"http://www.w3.org/1999/02/22-rdf-syntax-ns#type\" target=\"_other\">http://www.w3.org/1999/02/22-rdf-syntax-ns#type</a></td><td class=typ>URIRef</td>\n",
       "<td class=val><a href=\"http://www.w3.org/ns/prov#Entity\" target=\"_other\">http://www.w3.org/ns/prov#Entity</a></td><td class=typ>URIRef</td></tr><tr class=even><td class=val><a href=\"https://data.surroundaustralia.com/dataset/provworkflows/be0a708e-ae4f-11ec-857e-0d3fff4d6369\" target=\"_other\">https://data.surroundaustralia.com/dataset/provworkflows/be0a708e-ae4f-11ec-857e-0d3fff4d6369</a></td><td class=typ>URIRef</td>\n",
       "<td class=val><a href=\"http://purl.org/dc/terms/created\" target=\"_other\">http://purl.org/dc/terms/created</a></td><td class=typ>URIRef</td>\n",
       "<td class=val>2022-03-28T14:30:05+1000</td><td class=typ>Literal, None</td></tr></table><div class=\"tinfo\">Shown: 4, Total rows: 4</div></div>"
      ]
     },
     "metadata": {},
     "output_type": "display_data"
    }
   ],
   "source": [
    "%display table withtypes\n",
    "PREFIX prov: <http://www.w3.org/ns/prov#>\n",
    "DESCRIBE \n",
    "?activity \n",
    "WHERE \n",
    "{ ?activity a prov:Entity } \n",
    "LIMIT 1"
   ]
  },
  {
   "cell_type": "code",
   "execution_count": null,
   "id": "b6c09541",
   "metadata": {},
   "outputs": [],
   "source": []
  }
 ],
 "metadata": {
  "kernelspec": {
   "display_name": "SPARQL",
   "language": "sparql",
   "name": "sparql"
  },
  "language_info": {
   "codemirror_mode": {
    "name": "sparql"
   },
   "mimetype": "application/sparql-query",
   "name": "sparql",
   "pygments_lexer": "sparql-nb"
  }
 },
 "nbformat": 4,
 "nbformat_minor": 5
}
