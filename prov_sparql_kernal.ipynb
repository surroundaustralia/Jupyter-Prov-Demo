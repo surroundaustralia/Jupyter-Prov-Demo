{
 "cells": [
  {
   "cell_type": "code",
   "execution_count": 5,
   "id": "2408cf51",
   "metadata": {},
   "outputs": [
    {
     "data": {
      "text/html": [
       "<div class=\"krn-spql\"><div class=\"magic\">Endpoint set to: http://prov-loadba-z1mq3hc1iwb6-0953be8432f34fc1.elb.ap-southeast-2.amazonaws.com:3030/prov/sparql</div></div>"
      ],
      "text/plain": [
       "Endpoint set to: http://prov-loadba-z1mq3hc1iwb6-0953be8432f34fc1.elb.ap-southeast-2.amazonaws.com:3030/prov/sparql\n"
      ]
     },
     "metadata": {},
     "output_type": "display_data"
    }
   ],
   "source": [
    "%endpoint http://prov-loadba-z1mq3hc1iwb6-0953be8432f34fc1.elb.ap-southeast-2.amazonaws.com:3030/prov/sparql"
   ]
  },
  {
   "cell_type": "code",
   "execution_count": 18,
   "id": "cfd268b6",
   "metadata": {},
   "outputs": [
    {
     "data": {
      "text/html": [
       "<div class=\"krn-spql\"><div class=\"krn-error\"><span class=\"title\">Error:</span> unsupported format: TURTLE<br/>Supported formats are: ['JSON', 'N3', 'XML', 'RDF', 'NONE', 'DEFAULT', 'ANY']</div></div>"
      ],
      "text/plain": [
       "Error: unsupported format: TURTLE\n",
       "Supported formats are: ['JSON', 'N3', 'XML', 'RDF', 'NONE', 'DEFAULT', 'ANY']"
      ]
     },
     "metadata": {},
     "output_type": "display_data"
    }
   ],
   "source": [
    "%display table withtypes\n",
    "%format TURTLE\n",
    "%display diagram svg\n",
    "\n",
    "PREFIX prov: <http://www.w3.org/ns/prov#>\n",
    "DESCRIBE \n",
    "?activity \n",
    "WHERE \n",
    "{ ?activity a prov:Activity } \n",
    "LIMIT 1"
   ]
  },
  {
   "cell_type": "code",
   "execution_count": null,
   "id": "fa2803bd",
   "metadata": {},
   "outputs": [],
   "source": [
    "%display table withtypes\n",
    "PREFIX prov: <http://www.w3.org/ns/prov#>\n",
    "DESCRIBE \n",
    "?activity \n",
    "WHERE \n",
    "{ ?activity a prov:Agent } \n",
    "LIMIT 1"
   ]
  },
  {
   "cell_type": "code",
   "execution_count": null,
   "id": "f66ae38c",
   "metadata": {},
   "outputs": [],
   "source": [
    "# %display table withtypes\n",
    "%format n3\n",
    "%display diagram svg\n",
    "PREFIX prov: <http://www.w3.org/ns/prov#>\n",
    "DESCRIBE \n",
    "?activity \n",
    "WHERE \n",
    "{ ?activity a prov:Entity } \n",
    "LIMIT 1"
   ]
  },
  {
   "cell_type": "code",
   "execution_count": 1,
   "id": "b6c09541",
   "metadata": {},
   "outputs": [
    {
     "data": {
      "text/html": [
       "<div class=\"krn-spql\"><div class=\"krn-error\"><span class=\"title\">Error:</span> no endpoint defined</div></div>"
      ],
      "text/plain": [
       "Error: no endpoint defined"
      ]
     },
     "metadata": {},
     "output_type": "display_data"
    }
   ],
   "source": []
  },
  {
   "cell_type": "code",
   "execution_count": null,
   "id": "5a3f6110",
   "metadata": {},
   "outputs": [],
   "source": []
  }
 ],
 "metadata": {
  "kernelspec": {
   "display_name": "SPARQL",
   "language": "sparql",
   "name": "sparql"
  },
  "language_info": {
   "codemirror_mode": {
    "name": "sparql"
   },
   "mimetype": "application/sparql-query",
   "name": "sparql",
   "pygments_lexer": "sparql-nb"
  }
 },
 "nbformat": 4,
 "nbformat_minor": 5
}